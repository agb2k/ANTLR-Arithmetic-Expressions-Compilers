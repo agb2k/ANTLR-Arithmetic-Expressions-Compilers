{
  "nbformat": 4,
  "nbformat_minor": 0,
  "metadata": {
    "colab": {
      "provenance": [],
      "collapsed_sections": [],
      "mount_file_id": "1q6kwxZiyVHzLXp8j62G3YE8nq96w6es2",
      "authorship_tag": "ABX9TyORLcD9pGTqfTDVIrDCyKBZ",
      "include_colab_link": true
    },
    "kernelspec": {
      "name": "python3",
      "display_name": "Python 3"
    },
    "language_info": {
      "name": "python"
    }
  },
  "cells": [
    {
      "cell_type": "markdown",
      "metadata": {
        "id": "view-in-github",
        "colab_type": "text"
      },
      "source": [
        "<a href=\"https://colab.research.google.com/github/agb2k/ANTLR-Arithmetic-Expressions-Compilers/blob/master/Analysis.ipynb\" target=\"_parent\"><img src=\"https://colab.research.google.com/assets/colab-badge.svg\" alt=\"Open In Colab\"/></a>"
      ]
    },
    {
      "cell_type": "markdown",
      "source": [
        "## Install Libraries"
      ],
      "metadata": {
        "id": "EsWKHMQJ5tCn"
      }
    },
    {
      "cell_type": "code",
      "execution_count": 1,
      "metadata": {
        "id": "_rVeOtRNiXdI",
        "colab": {
          "base_uri": "https://localhost:8080/"
        },
        "outputId": "f4a0d7ce-98ca-47ae-d707-2aee2cdcb699"
      },
      "outputs": [
        {
          "output_type": "stream",
          "name": "stdout",
          "text": [
            "Looking in indexes: https://pypi.org/simple, https://us-python.pkg.dev/colab-wheels/public/simple/\n",
            "Requirement already satisfied: scikit-learn in /usr/local/lib/python3.7/dist-packages (1.0.2)\n",
            "Requirement already satisfied: scipy>=1.1.0 in /usr/local/lib/python3.7/dist-packages (from scikit-learn) (1.7.3)\n",
            "Requirement already satisfied: threadpoolctl>=2.0.0 in /usr/local/lib/python3.7/dist-packages (from scikit-learn) (3.1.0)\n",
            "Requirement already satisfied: numpy>=1.14.6 in /usr/local/lib/python3.7/dist-packages (from scikit-learn) (1.21.6)\n",
            "Requirement already satisfied: joblib>=0.11 in /usr/local/lib/python3.7/dist-packages (from scikit-learn) (1.2.0)\n",
            "Looking in indexes: https://pypi.org/simple, https://us-python.pkg.dev/colab-wheels/public/simple/\n",
            "Collecting forex-python\n",
            "  Downloading forex_python-1.8-py3-none-any.whl (8.2 kB)\n",
            "Collecting simplejson\n",
            "  Downloading simplejson-3.17.6-cp37-cp37m-manylinux_2_5_x86_64.manylinux1_x86_64.manylinux_2_12_x86_64.manylinux2010_x86_64.whl (130 kB)\n",
            "\u001b[K     |████████████████████████████████| 130 kB 7.3 MB/s \n",
            "\u001b[?25hRequirement already satisfied: requests in /usr/local/lib/python3.7/dist-packages (from forex-python) (2.23.0)\n",
            "Requirement already satisfied: certifi>=2017.4.17 in /usr/local/lib/python3.7/dist-packages (from requests->forex-python) (2022.9.24)\n",
            "Requirement already satisfied: urllib3!=1.25.0,!=1.25.1,<1.26,>=1.21.1 in /usr/local/lib/python3.7/dist-packages (from requests->forex-python) (1.24.3)\n",
            "Requirement already satisfied: chardet<4,>=3.0.2 in /usr/local/lib/python3.7/dist-packages (from requests->forex-python) (3.0.4)\n",
            "Requirement already satisfied: idna<3,>=2.5 in /usr/local/lib/python3.7/dist-packages (from requests->forex-python) (2.10)\n",
            "Installing collected packages: simplejson, forex-python\n",
            "Successfully installed forex-python-1.8 simplejson-3.17.6\n"
          ]
        }
      ],
      "source": [
        "!pip install pandas\n",
        "!pip install -U scikit-learn\n",
        "!pip install forex-python\n"
      ]
    },
    {
      "cell_type": "markdown",
      "source": [
        "## Preprocessing\n",
        "\n",
        "\n"
      ],
      "metadata": {
        "id": "XW6FVll45jGK"
      }
    },
    {
      "cell_type": "code",
      "source": [
        "import pandas as pd\n",
        "pd.set_option('display.max_columns', None)\n",
        "\n",
        "df = pd.read_csv(r'drive/MyDrive/DevKaki Data/salary-data-1.csv')\n",
        "\n",
        "df.columns"
      ],
      "metadata": {
        "id": "_baqGw5OjXwq",
        "colab": {
          "base_uri": "https://localhost:8080/"
        },
        "outputId": "1a20fdaf-322a-4cf0-e04d-c2e2df3a3d81"
      },
      "execution_count": 2,
      "outputs": [
        {
          "output_type": "execute_result",
          "data": {
            "text/plain": [
              "Index(['Timestamp', 'Year', 'Gender', 'Age', 'Nationality',\n",
              "       'Current Country of Residence', 'Current State of Residence',\n",
              "       'Current City of Residence', 'Highest Level of Education',\n",
              "       'Name of Highest Degree Obtained', 'Name of School or University',\n",
              "       'Is your Education Background related to your current job?',\n",
              "       'Did you go through a bootcamp to learn technical skills?',\n",
              "       'Professional Certification (Eg. CCNA, CEH, GCP Cloud Associate)',\n",
              "       'Name of Bootcamp Course', 'Name of Professional Certification(s)',\n",
              "       'Job Title', 'What is your currency code?',\n",
              "       'What is your current monthly base salary?',\n",
              "       'What is your current bonus compensation per year?',\n",
              "       'What is your current equity (stock) compensation per year?',\n",
              "       'How many days of annual leave are you entitled to?',\n",
              "       'Company Benefits',\n",
              "       'What technologies do you use for work on a regular basis?',\n",
              "       'Company Location', 'Company Industry',\n",
              "       'What is the size of your company?',\n",
              "       'What is the size of your tech team?',\n",
              "       'What's the name of your company? [Optional]',\n",
              "       'Satisfaction Level of Current Job', 'Years of Experience',\n",
              "       'Number of past employments/jobs (excluding the current one)',\n",
              "       'What was your starting monthly salary?',\n",
              "       'Indicate in 3-character currency code for starting monthly salary'],\n",
              "      dtype='object')"
            ]
          },
          "metadata": {},
          "execution_count": 2
        }
      ]
    },
    {
      "cell_type": "code",
      "source": [
        "# Renaming Columns\n",
        "df.set_axis(['Timestamp', 'Year', 'Gender', 'Age', 'Malaysian','Current Country of Residence', 'Current State of Residence','Current City of Residence', 'Highest Level of Education','Name of Highest Degree', 'Name of School','Education Relation','Bootcamp','Professional Certification','Bootcamp Name', 'Professional Certifications Name','Job Title', 'Salary Currency Code','Salary','Yearly Bonus','Yearly Equity','Annual Leave','Company Benefits','Technologies','Company Location', 'Company Industry','Company Size','Tech Team Size','Company Name','Satisfaction', 'Experience','Number of Past Jobs','Initial Salary','Initial Salary Currency Code'], axis='columns', inplace=True)\n",
        "\n",
        "# Removing Columns\n",
        "df = df.loc[:, ~df.columns.isin(['Timestamp', 'Year', 'Current State of Residence', 'Current City of Residence', 'Satisfaction', 'Yearly Bonus',  'Yearly Equity', 'Annual Leave', 'Company Benefits', 'Company Name', 'Bootcamp Name', 'Professional Certifications Name', 'Name of Highest Degree'])]"
      ],
      "metadata": {
        "id": "Q4eSPIAwDxkj"
      },
      "execution_count": 3,
      "outputs": []
    },
    {
      "cell_type": "code",
      "source": [
        "idxAbroad = df.loc[((df[\"Current Country of Residence\"] != \"Malaysia\") & (df[\"Salary Currency Code\"] != \"MYR\"))].index\n",
        "df.drop(idxAbroad, inplace=True)"
      ],
      "metadata": {
        "id": "7zXRGaaajoNe"
      },
      "execution_count": 4,
      "outputs": []
    },
    {
      "cell_type": "code",
      "source": [
        "from sklearn.preprocessing import LabelEncoder\n",
        "\n",
        "lb = LabelEncoder() \n",
        "df['Education Relation'] = lb.fit_transform(df['Education Relation'])\n",
        "df['Professional Certification'] = lb.fit_transform(df['Professional Certification'])\n",
        "df['Bootcamp'] = lb.fit_transform(df['Bootcamp'])\n",
        "\n",
        "df['Malaysian'].mask(df['Malaysian'] != 'Malaysian', 'Expat', inplace=True)\n",
        "df['Malaysian'] = lb.fit_transform(df['Malaysian'])"
      ],
      "metadata": {
        "id": "98uoNcdR61J3"
      },
      "execution_count": 5,
      "outputs": []
    },
    {
      "cell_type": "code",
      "source": [
        "df.columns"
      ],
      "metadata": {
        "colab": {
          "base_uri": "https://localhost:8080/"
        },
        "id": "psZBj8blhaIo",
        "outputId": "d7267e70-5663-4c89-fc25-c6fbfc102ebe"
      },
      "execution_count": 6,
      "outputs": [
        {
          "output_type": "execute_result",
          "data": {
            "text/plain": [
              "Index(['Gender', 'Age', 'Malaysian', 'Current Country of Residence',\n",
              "       'Highest Level of Education', 'Name of School', 'Education Relation',\n",
              "       'Bootcamp', 'Professional Certification', 'Job Title',\n",
              "       'Salary Currency Code', 'Salary', 'Technologies', 'Company Location',\n",
              "       'Company Industry', 'Company Size', 'Tech Team Size', 'Experience',\n",
              "       'Number of Past Jobs', 'Initial Salary',\n",
              "       'Initial Salary Currency Code'],\n",
              "      dtype='object')"
            ]
          },
          "metadata": {},
          "execution_count": 6
        }
      ]
    },
    {
      "cell_type": "code",
      "source": [
        "from forex_python.converter import CurrencyRates\n",
        "from forex_python.bitcoin import BtcConverter\n",
        "c = CurrencyRates()\n",
        "b = BtcConverter()\n",
        "\n",
        "def convertToMYR(currencyCode, salary, df_sm):\n",
        "  try:\n",
        "    salary = int(salary)\n",
        "    if currencyCode == 'BTC':\n",
        "      currencyCode = 'MYR'\n",
        "      return salary * b.get_latest_price('MYR')\n",
        "    else:\n",
        "      currencyCode = 'MYR'\n",
        "      return c.convert(currencyCode, 'MYR', salary)\n",
        "  except:\n",
        "    pass"
      ],
      "metadata": {
        "id": "aXY19YScPIGo"
      },
      "execution_count": 7,
      "outputs": []
    },
    {
      "cell_type": "code",
      "source": [
        "df['Salary'] = df.apply( lambda x: convertToMYR(x['Salary Currency Code'], x['Salary'], x), axis = 1)\n",
        "df['Initial Salary'] = df.apply( lambda x: convertToMYR(x['Initial Salary Currency Code'], x['Initial Salary'], x), axis = 1)"
      ],
      "metadata": {
        "id": "uFQ5_QN3VEWo"
      },
      "execution_count": 8,
      "outputs": []
    },
    {
      "cell_type": "code",
      "source": [
        "df"
      ],
      "metadata": {
        "colab": {
          "base_uri": "https://localhost:8080/",
          "height": 1000
        },
        "id": "QIdZoM0Q_XRf",
        "outputId": "1fb7f52f-a54a-4fac-fbe5-a480e8a6ebf5"
      },
      "execution_count": 9,
      "outputs": [
        {
          "output_type": "execute_result",
          "data": {
            "text/plain": [
              "     Gender  Age  Malaysian Current Country of Residence  \\\n",
              "0     Other   23          1                     Malaysia   \n",
              "1    Female   22          1                     Malaysia   \n",
              "2    Female   22          1                     Malaysia   \n",
              "3      Male   19          1                     Malaysia   \n",
              "4      Male   21          1                     Malaysia   \n",
              "..      ...  ...        ...                          ...   \n",
              "716    Male   40          1                     Malaysia   \n",
              "717    Male   48          1                     Malaysia   \n",
              "718    Male   25          1                     Malaysia   \n",
              "719    Male   38          1                     Malaysia   \n",
              "720    Male   24          1                     Malaysia   \n",
              "\n",
              "                            Highest Level of Education  \\\n",
              "0                                 Undergraduate Degree   \n",
              "1                                 Undergraduate Degree   \n",
              "2                                 Undergraduate Degree   \n",
              "3    Pre-university (STPM, A-Levels, Matriculation,...   \n",
              "4                                 Undergraduate Degree   \n",
              "..                                                 ...   \n",
              "716                               Undergraduate Degree   \n",
              "717                                            Diploma   \n",
              "718                               Undergraduate Degree   \n",
              "719                                            Diploma   \n",
              "720                               Undergraduate Degree   \n",
              "\n",
              "                            Name of School  Education Relation  Bootcamp  \\\n",
              "0                                      NaN                   1         0   \n",
              "1                                      NaN                   1         0   \n",
              "2                   John Moores University                   1         0   \n",
              "3                        Sunway University                   1         0   \n",
              "4                  Asia pacific university                   1         0   \n",
              "..                                     ...                 ...       ...   \n",
              "716  UOW KDU Malaysia University & College                   1         0   \n",
              "717                Asia Pacific University                   1         0   \n",
              "718            University Malaysia Sarawak                   1         0   \n",
              "719  Tunku Abdul Rahman University College                   0         0   \n",
              "720                      University Malaya                   1         0   \n",
              "\n",
              "     Professional Certification                           Job Title  \\\n",
              "0                             0           Junior Software Developer   \n",
              "1                             0                              Intern   \n",
              "2                             0                              Intern   \n",
              "3                             0          Junior Fullstack Developer   \n",
              "4                             0                   Android Developer   \n",
              "..                          ...                                 ...   \n",
              "716                           1                          Consultant   \n",
              "717                           0                  Solution Architect   \n",
              "718                           0  Engineering Technology Coordinator   \n",
              "719                           0       Full-Stack Software Developer   \n",
              "720                           0                Application Engineer   \n",
              "\n",
              "    Salary Currency Code   Salary                           Technologies  \\\n",
              "0                    MYR   2200.0                                    PHP   \n",
              "1                    MYR   3300.0                                 Python   \n",
              "2                    MYR   1000.0                            Asp.net mvc   \n",
              "3                    MYR   1800.0                    Web, Laravel, React   \n",
              "4                    MYR   1500.0                         Android studio   \n",
              "..                   ...      ...                                    ...   \n",
              "716                  MYR  15000.0                                   Java   \n",
              "717                  MYR  20000.0                                  Xwiki   \n",
              "718                  MYR   2000.0  Documentation and website development   \n",
              "719                  MYR   3000.0                       Node,react,mysql   \n",
              "720                  MYR   5000.0                       Java, Javascript   \n",
              "\n",
              "        Company Location                                  Company Industry  \\\n",
              "0               MALAYSIA                                                HR   \n",
              "1       Penang, Malaysia   Industrials (Manufacturing, Construction, etc.)   \n",
              "2      Kuala lumpur,Msia                                           Gateway   \n",
              "3     Johor Bahru, Johor     Professional Services (Law, Consulting, etc.)   \n",
              "4    Selangor , malaysia                      Data Infrastructure, Telecom   \n",
              "..                   ...                                               ...   \n",
              "716                   Kl                      Data Infrastructure, Telecom   \n",
              "717         Selangor, MY                                Financial Services   \n",
              "718      Sarawak kuching  Government and Government Linked Companies (GLC)   \n",
              "719             Selangor                                     Communication   \n",
              "720         Kuala Lumpur                                Financial Services   \n",
              "\n",
              "               Company Size   Tech Team Size  Experience  Number of Past Jobs  \\\n",
              "0            1-10 employees        Team of 1         0.0                  0.0   \n",
              "1    1,001-10,000 employees    2 - 10 people         0.0                  0.0   \n",
              "2          51-200 employees    2 - 10 people         0.0                  0.0   \n",
              "3            1-10 employees    2 - 10 people         0.0                  0.0   \n",
              "4           11-50 employees    2 - 10 people         0.0                  0.0   \n",
              "..                      ...              ...         ...                  ...   \n",
              "716        51-200 employees    2 - 10 people        10.0                 10.0   \n",
              "717        51-200 employees   11 - 50 people        30.0                 10.0   \n",
              "718         11-50 employees    2 - 10 people         1.0                  2.0   \n",
              "719          1-10 employees        Team of 1         3.0                  2.0   \n",
              "720  1,001-10,000 employees  51 - 200 people         1.0                  1.0   \n",
              "\n",
              "     Initial Salary Initial Salary Currency Code  \n",
              "0               NaN                          MYR  \n",
              "1               NaN                          MYR  \n",
              "2            1000.0                          MYR  \n",
              "3            1200.0                          NaN  \n",
              "4            1200.0                          NaN  \n",
              "..              ...                          ...  \n",
              "716          1000.0                          NaN  \n",
              "717          1500.0                          NaN  \n",
              "718          2000.0                          NaN  \n",
              "719          3000.0                          MYR  \n",
              "720          3600.0                          NaN  \n",
              "\n",
              "[693 rows x 21 columns]"
            ],
            "text/html": [
              "\n",
              "  <div id=\"df-165fad01-898e-4544-92f0-667deb121fa2\">\n",
              "    <div class=\"colab-df-container\">\n",
              "      <div>\n",
              "<style scoped>\n",
              "    .dataframe tbody tr th:only-of-type {\n",
              "        vertical-align: middle;\n",
              "    }\n",
              "\n",
              "    .dataframe tbody tr th {\n",
              "        vertical-align: top;\n",
              "    }\n",
              "\n",
              "    .dataframe thead th {\n",
              "        text-align: right;\n",
              "    }\n",
              "</style>\n",
              "<table border=\"1\" class=\"dataframe\">\n",
              "  <thead>\n",
              "    <tr style=\"text-align: right;\">\n",
              "      <th></th>\n",
              "      <th>Gender</th>\n",
              "      <th>Age</th>\n",
              "      <th>Malaysian</th>\n",
              "      <th>Current Country of Residence</th>\n",
              "      <th>Highest Level of Education</th>\n",
              "      <th>Name of School</th>\n",
              "      <th>Education Relation</th>\n",
              "      <th>Bootcamp</th>\n",
              "      <th>Professional Certification</th>\n",
              "      <th>Job Title</th>\n",
              "      <th>Salary Currency Code</th>\n",
              "      <th>Salary</th>\n",
              "      <th>Technologies</th>\n",
              "      <th>Company Location</th>\n",
              "      <th>Company Industry</th>\n",
              "      <th>Company Size</th>\n",
              "      <th>Tech Team Size</th>\n",
              "      <th>Experience</th>\n",
              "      <th>Number of Past Jobs</th>\n",
              "      <th>Initial Salary</th>\n",
              "      <th>Initial Salary Currency Code</th>\n",
              "    </tr>\n",
              "  </thead>\n",
              "  <tbody>\n",
              "    <tr>\n",
              "      <th>0</th>\n",
              "      <td>Other</td>\n",
              "      <td>23</td>\n",
              "      <td>1</td>\n",
              "      <td>Malaysia</td>\n",
              "      <td>Undergraduate Degree</td>\n",
              "      <td>NaN</td>\n",
              "      <td>1</td>\n",
              "      <td>0</td>\n",
              "      <td>0</td>\n",
              "      <td>Junior Software Developer</td>\n",
              "      <td>MYR</td>\n",
              "      <td>2200.0</td>\n",
              "      <td>PHP</td>\n",
              "      <td>MALAYSIA</td>\n",
              "      <td>HR</td>\n",
              "      <td>1-10 employees</td>\n",
              "      <td>Team of 1</td>\n",
              "      <td>0.0</td>\n",
              "      <td>0.0</td>\n",
              "      <td>NaN</td>\n",
              "      <td>MYR</td>\n",
              "    </tr>\n",
              "    <tr>\n",
              "      <th>1</th>\n",
              "      <td>Female</td>\n",
              "      <td>22</td>\n",
              "      <td>1</td>\n",
              "      <td>Malaysia</td>\n",
              "      <td>Undergraduate Degree</td>\n",
              "      <td>NaN</td>\n",
              "      <td>1</td>\n",
              "      <td>0</td>\n",
              "      <td>0</td>\n",
              "      <td>Intern</td>\n",
              "      <td>MYR</td>\n",
              "      <td>3300.0</td>\n",
              "      <td>Python</td>\n",
              "      <td>Penang, Malaysia</td>\n",
              "      <td>Industrials (Manufacturing, Construction, etc.)</td>\n",
              "      <td>1,001-10,000 employees</td>\n",
              "      <td>2 - 10 people</td>\n",
              "      <td>0.0</td>\n",
              "      <td>0.0</td>\n",
              "      <td>NaN</td>\n",
              "      <td>MYR</td>\n",
              "    </tr>\n",
              "    <tr>\n",
              "      <th>2</th>\n",
              "      <td>Female</td>\n",
              "      <td>22</td>\n",
              "      <td>1</td>\n",
              "      <td>Malaysia</td>\n",
              "      <td>Undergraduate Degree</td>\n",
              "      <td>John Moores University</td>\n",
              "      <td>1</td>\n",
              "      <td>0</td>\n",
              "      <td>0</td>\n",
              "      <td>Intern</td>\n",
              "      <td>MYR</td>\n",
              "      <td>1000.0</td>\n",
              "      <td>Asp.net mvc</td>\n",
              "      <td>Kuala lumpur,Msia</td>\n",
              "      <td>Gateway</td>\n",
              "      <td>51-200 employees</td>\n",
              "      <td>2 - 10 people</td>\n",
              "      <td>0.0</td>\n",
              "      <td>0.0</td>\n",
              "      <td>1000.0</td>\n",
              "      <td>MYR</td>\n",
              "    </tr>\n",
              "    <tr>\n",
              "      <th>3</th>\n",
              "      <td>Male</td>\n",
              "      <td>19</td>\n",
              "      <td>1</td>\n",
              "      <td>Malaysia</td>\n",
              "      <td>Pre-university (STPM, A-Levels, Matriculation,...</td>\n",
              "      <td>Sunway University</td>\n",
              "      <td>1</td>\n",
              "      <td>0</td>\n",
              "      <td>0</td>\n",
              "      <td>Junior Fullstack Developer</td>\n",
              "      <td>MYR</td>\n",
              "      <td>1800.0</td>\n",
              "      <td>Web, Laravel, React</td>\n",
              "      <td>Johor Bahru, Johor</td>\n",
              "      <td>Professional Services (Law, Consulting, etc.)</td>\n",
              "      <td>1-10 employees</td>\n",
              "      <td>2 - 10 people</td>\n",
              "      <td>0.0</td>\n",
              "      <td>0.0</td>\n",
              "      <td>1200.0</td>\n",
              "      <td>NaN</td>\n",
              "    </tr>\n",
              "    <tr>\n",
              "      <th>4</th>\n",
              "      <td>Male</td>\n",
              "      <td>21</td>\n",
              "      <td>1</td>\n",
              "      <td>Malaysia</td>\n",
              "      <td>Undergraduate Degree</td>\n",
              "      <td>Asia pacific university</td>\n",
              "      <td>1</td>\n",
              "      <td>0</td>\n",
              "      <td>0</td>\n",
              "      <td>Android Developer</td>\n",
              "      <td>MYR</td>\n",
              "      <td>1500.0</td>\n",
              "      <td>Android studio</td>\n",
              "      <td>Selangor , malaysia</td>\n",
              "      <td>Data Infrastructure, Telecom</td>\n",
              "      <td>11-50 employees</td>\n",
              "      <td>2 - 10 people</td>\n",
              "      <td>0.0</td>\n",
              "      <td>0.0</td>\n",
              "      <td>1200.0</td>\n",
              "      <td>NaN</td>\n",
              "    </tr>\n",
              "    <tr>\n",
              "      <th>...</th>\n",
              "      <td>...</td>\n",
              "      <td>...</td>\n",
              "      <td>...</td>\n",
              "      <td>...</td>\n",
              "      <td>...</td>\n",
              "      <td>...</td>\n",
              "      <td>...</td>\n",
              "      <td>...</td>\n",
              "      <td>...</td>\n",
              "      <td>...</td>\n",
              "      <td>...</td>\n",
              "      <td>...</td>\n",
              "      <td>...</td>\n",
              "      <td>...</td>\n",
              "      <td>...</td>\n",
              "      <td>...</td>\n",
              "      <td>...</td>\n",
              "      <td>...</td>\n",
              "      <td>...</td>\n",
              "      <td>...</td>\n",
              "      <td>...</td>\n",
              "    </tr>\n",
              "    <tr>\n",
              "      <th>716</th>\n",
              "      <td>Male</td>\n",
              "      <td>40</td>\n",
              "      <td>1</td>\n",
              "      <td>Malaysia</td>\n",
              "      <td>Undergraduate Degree</td>\n",
              "      <td>UOW KDU Malaysia University &amp; College</td>\n",
              "      <td>1</td>\n",
              "      <td>0</td>\n",
              "      <td>1</td>\n",
              "      <td>Consultant</td>\n",
              "      <td>MYR</td>\n",
              "      <td>15000.0</td>\n",
              "      <td>Java</td>\n",
              "      <td>Kl</td>\n",
              "      <td>Data Infrastructure, Telecom</td>\n",
              "      <td>51-200 employees</td>\n",
              "      <td>2 - 10 people</td>\n",
              "      <td>10.0</td>\n",
              "      <td>10.0</td>\n",
              "      <td>1000.0</td>\n",
              "      <td>NaN</td>\n",
              "    </tr>\n",
              "    <tr>\n",
              "      <th>717</th>\n",
              "      <td>Male</td>\n",
              "      <td>48</td>\n",
              "      <td>1</td>\n",
              "      <td>Malaysia</td>\n",
              "      <td>Diploma</td>\n",
              "      <td>Asia Pacific University</td>\n",
              "      <td>1</td>\n",
              "      <td>0</td>\n",
              "      <td>0</td>\n",
              "      <td>Solution Architect</td>\n",
              "      <td>MYR</td>\n",
              "      <td>20000.0</td>\n",
              "      <td>Xwiki</td>\n",
              "      <td>Selangor, MY</td>\n",
              "      <td>Financial Services</td>\n",
              "      <td>51-200 employees</td>\n",
              "      <td>11 - 50 people</td>\n",
              "      <td>30.0</td>\n",
              "      <td>10.0</td>\n",
              "      <td>1500.0</td>\n",
              "      <td>NaN</td>\n",
              "    </tr>\n",
              "    <tr>\n",
              "      <th>718</th>\n",
              "      <td>Male</td>\n",
              "      <td>25</td>\n",
              "      <td>1</td>\n",
              "      <td>Malaysia</td>\n",
              "      <td>Undergraduate Degree</td>\n",
              "      <td>University Malaysia Sarawak</td>\n",
              "      <td>1</td>\n",
              "      <td>0</td>\n",
              "      <td>0</td>\n",
              "      <td>Engineering Technology Coordinator</td>\n",
              "      <td>MYR</td>\n",
              "      <td>2000.0</td>\n",
              "      <td>Documentation and website development</td>\n",
              "      <td>Sarawak kuching</td>\n",
              "      <td>Government and Government Linked Companies (GLC)</td>\n",
              "      <td>11-50 employees</td>\n",
              "      <td>2 - 10 people</td>\n",
              "      <td>1.0</td>\n",
              "      <td>2.0</td>\n",
              "      <td>2000.0</td>\n",
              "      <td>NaN</td>\n",
              "    </tr>\n",
              "    <tr>\n",
              "      <th>719</th>\n",
              "      <td>Male</td>\n",
              "      <td>38</td>\n",
              "      <td>1</td>\n",
              "      <td>Malaysia</td>\n",
              "      <td>Diploma</td>\n",
              "      <td>Tunku Abdul Rahman University College</td>\n",
              "      <td>0</td>\n",
              "      <td>0</td>\n",
              "      <td>0</td>\n",
              "      <td>Full-Stack Software Developer</td>\n",
              "      <td>MYR</td>\n",
              "      <td>3000.0</td>\n",
              "      <td>Node,react,mysql</td>\n",
              "      <td>Selangor</td>\n",
              "      <td>Communication</td>\n",
              "      <td>1-10 employees</td>\n",
              "      <td>Team of 1</td>\n",
              "      <td>3.0</td>\n",
              "      <td>2.0</td>\n",
              "      <td>3000.0</td>\n",
              "      <td>MYR</td>\n",
              "    </tr>\n",
              "    <tr>\n",
              "      <th>720</th>\n",
              "      <td>Male</td>\n",
              "      <td>24</td>\n",
              "      <td>1</td>\n",
              "      <td>Malaysia</td>\n",
              "      <td>Undergraduate Degree</td>\n",
              "      <td>University Malaya</td>\n",
              "      <td>1</td>\n",
              "      <td>0</td>\n",
              "      <td>0</td>\n",
              "      <td>Application Engineer</td>\n",
              "      <td>MYR</td>\n",
              "      <td>5000.0</td>\n",
              "      <td>Java, Javascript</td>\n",
              "      <td>Kuala Lumpur</td>\n",
              "      <td>Financial Services</td>\n",
              "      <td>1,001-10,000 employees</td>\n",
              "      <td>51 - 200 people</td>\n",
              "      <td>1.0</td>\n",
              "      <td>1.0</td>\n",
              "      <td>3600.0</td>\n",
              "      <td>NaN</td>\n",
              "    </tr>\n",
              "  </tbody>\n",
              "</table>\n",
              "<p>693 rows × 21 columns</p>\n",
              "</div>\n",
              "      <button class=\"colab-df-convert\" onclick=\"convertToInteractive('df-165fad01-898e-4544-92f0-667deb121fa2')\"\n",
              "              title=\"Convert this dataframe to an interactive table.\"\n",
              "              style=\"display:none;\">\n",
              "        \n",
              "  <svg xmlns=\"http://www.w3.org/2000/svg\" height=\"24px\"viewBox=\"0 0 24 24\"\n",
              "       width=\"24px\">\n",
              "    <path d=\"M0 0h24v24H0V0z\" fill=\"none\"/>\n",
              "    <path d=\"M18.56 5.44l.94 2.06.94-2.06 2.06-.94-2.06-.94-.94-2.06-.94 2.06-2.06.94zm-11 1L8.5 8.5l.94-2.06 2.06-.94-2.06-.94L8.5 2.5l-.94 2.06-2.06.94zm10 10l.94 2.06.94-2.06 2.06-.94-2.06-.94-.94-2.06-.94 2.06-2.06.94z\"/><path d=\"M17.41 7.96l-1.37-1.37c-.4-.4-.92-.59-1.43-.59-.52 0-1.04.2-1.43.59L10.3 9.45l-7.72 7.72c-.78.78-.78 2.05 0 2.83L4 21.41c.39.39.9.59 1.41.59.51 0 1.02-.2 1.41-.59l7.78-7.78 2.81-2.81c.8-.78.8-2.07 0-2.86zM5.41 20L4 18.59l7.72-7.72 1.47 1.35L5.41 20z\"/>\n",
              "  </svg>\n",
              "      </button>\n",
              "      \n",
              "  <style>\n",
              "    .colab-df-container {\n",
              "      display:flex;\n",
              "      flex-wrap:wrap;\n",
              "      gap: 12px;\n",
              "    }\n",
              "\n",
              "    .colab-df-convert {\n",
              "      background-color: #E8F0FE;\n",
              "      border: none;\n",
              "      border-radius: 50%;\n",
              "      cursor: pointer;\n",
              "      display: none;\n",
              "      fill: #1967D2;\n",
              "      height: 32px;\n",
              "      padding: 0 0 0 0;\n",
              "      width: 32px;\n",
              "    }\n",
              "\n",
              "    .colab-df-convert:hover {\n",
              "      background-color: #E2EBFA;\n",
              "      box-shadow: 0px 1px 2px rgba(60, 64, 67, 0.3), 0px 1px 3px 1px rgba(60, 64, 67, 0.15);\n",
              "      fill: #174EA6;\n",
              "    }\n",
              "\n",
              "    [theme=dark] .colab-df-convert {\n",
              "      background-color: #3B4455;\n",
              "      fill: #D2E3FC;\n",
              "    }\n",
              "\n",
              "    [theme=dark] .colab-df-convert:hover {\n",
              "      background-color: #434B5C;\n",
              "      box-shadow: 0px 1px 3px 1px rgba(0, 0, 0, 0.15);\n",
              "      filter: drop-shadow(0px 1px 2px rgba(0, 0, 0, 0.3));\n",
              "      fill: #FFFFFF;\n",
              "    }\n",
              "  </style>\n",
              "\n",
              "      <script>\n",
              "        const buttonEl =\n",
              "          document.querySelector('#df-165fad01-898e-4544-92f0-667deb121fa2 button.colab-df-convert');\n",
              "        buttonEl.style.display =\n",
              "          google.colab.kernel.accessAllowed ? 'block' : 'none';\n",
              "\n",
              "        async function convertToInteractive(key) {\n",
              "          const element = document.querySelector('#df-165fad01-898e-4544-92f0-667deb121fa2');\n",
              "          const dataTable =\n",
              "            await google.colab.kernel.invokeFunction('convertToInteractive',\n",
              "                                                     [key], {});\n",
              "          if (!dataTable) return;\n",
              "\n",
              "          const docLinkHtml = 'Like what you see? Visit the ' +\n",
              "            '<a target=\"_blank\" href=https://colab.research.google.com/notebooks/data_table.ipynb>data table notebook</a>'\n",
              "            + ' to learn more about interactive tables.';\n",
              "          element.innerHTML = '';\n",
              "          dataTable['output_type'] = 'display_data';\n",
              "          await google.colab.output.renderOutput(dataTable, element);\n",
              "          const docLink = document.createElement('div');\n",
              "          docLink.innerHTML = docLinkHtml;\n",
              "          element.appendChild(docLink);\n",
              "        }\n",
              "      </script>\n",
              "    </div>\n",
              "  </div>\n",
              "  "
            ]
          },
          "metadata": {},
          "execution_count": 9
        }
      ]
    },
    {
      "cell_type": "code",
      "source": [
        "import numpy as np\n",
        "\n",
        "def get_zscore(value, values):\n",
        "    \"\"\"Obtain the z-score of a given value\"\"\"\n",
        "    m = np.mean(values)\n",
        "    s = np.std(values)\n",
        "    z_score = (value - m)/s\n",
        "    return np.abs(z_score)\n",
        "\n",
        "# find outliers\n",
        "outliers = list(df[df[\"Salary\"].apply(lambda x: get_zscore(x, df[\"Salary\"]))>0.1].index)\n",
        "df.drop(outliers, inplace=True)"
      ],
      "metadata": {
        "id": "-cu7Z_ZL4bfj"
      },
      "execution_count": 10,
      "outputs": []
    },
    {
      "cell_type": "code",
      "source": [
        "# Removing Columns\n",
        "df = df.loc[:, ~df.columns.isin(['Salary Currency Code', 'Initial Salary Currency Code'])]"
      ],
      "metadata": {
        "id": "D5FtP0AWRWNe"
      },
      "execution_count": 11,
      "outputs": []
    },
    {
      "cell_type": "code",
      "source": [
        "df['Experience'].astype(int)\n",
        "df['Number of Past Jobs'].astype(int)\n",
        "df['Salary'].astype(int)"
      ],
      "metadata": {
        "colab": {
          "base_uri": "https://localhost:8080/"
        },
        "id": "IE9a6_BlMCR6",
        "outputId": "5327139a-bf9d-4081-94f7-cf1effedaf6d"
      },
      "execution_count": 12,
      "outputs": [
        {
          "output_type": "execute_result",
          "data": {
            "text/plain": [
              "0       2200\n",
              "1       3300\n",
              "2       1000\n",
              "3       1800\n",
              "4       1500\n",
              "       ...  \n",
              "716    15000\n",
              "717    20000\n",
              "718     2000\n",
              "719     3000\n",
              "720     5000\n",
              "Name: Salary, Length: 690, dtype: int64"
            ]
          },
          "metadata": {},
          "execution_count": 12
        }
      ]
    },
    {
      "cell_type": "code",
      "source": [
        "df.dtypes"
      ],
      "metadata": {
        "colab": {
          "base_uri": "https://localhost:8080/"
        },
        "id": "Xzfh6xr7dffi",
        "outputId": "79309fdd-22bb-493c-dc32-a2d0f676bccd"
      },
      "execution_count": 13,
      "outputs": [
        {
          "output_type": "execute_result",
          "data": {
            "text/plain": [
              "Gender                           object\n",
              "Age                               int64\n",
              "Malaysian                         int64\n",
              "Current Country of Residence     object\n",
              "Highest Level of Education       object\n",
              "Name of School                   object\n",
              "Education Relation                int64\n",
              "Bootcamp                          int64\n",
              "Professional Certification        int64\n",
              "Job Title                        object\n",
              "Salary                          float64\n",
              "Technologies                     object\n",
              "Company Location                 object\n",
              "Company Industry                 object\n",
              "Company Size                     object\n",
              "Tech Team Size                   object\n",
              "Experience                      float64\n",
              "Number of Past Jobs             float64\n",
              "Initial Salary                  float64\n",
              "dtype: object"
            ]
          },
          "metadata": {},
          "execution_count": 13
        }
      ]
    },
    {
      "cell_type": "code",
      "source": [
        "from sklearn.preprocessing import OrdinalEncoder\n",
        "\n",
        "enc = OrdinalEncoder()\n",
        "df[[\"Highest Level of Education\"]] = enc.fit_transform(df[[\"Highest Level of Education\"]])"
      ],
      "metadata": {
        "colab": {
          "base_uri": "https://localhost:8080/"
        },
        "id": "783MYXqUsjIU",
        "outputId": "1e4f3e50-50ae-46b3-a4df-563438b11e8f"
      },
      "execution_count": 14,
      "outputs": [
        {
          "output_type": "stream",
          "name": "stderr",
          "text": [
            "/usr/local/lib/python3.7/dist-packages/pandas/core/frame.py:3678: SettingWithCopyWarning: \n",
            "A value is trying to be set on a copy of a slice from a DataFrame.\n",
            "Try using .loc[row_indexer,col_indexer] = value instead\n",
            "\n",
            "See the caveats in the documentation: https://pandas.pydata.org/pandas-docs/stable/user_guide/indexing.html#returning-a-view-versus-a-copy\n",
            "  self[col] = igetitem(value, i)\n"
          ]
        }
      ]
    },
    {
      "cell_type": "code",
      "source": [
        "df.to_csv('output.csv')"
      ],
      "metadata": {
        "id": "G2bxbK0TMDc9"
      },
      "execution_count": 15,
      "outputs": []
    },
    {
      "cell_type": "code",
      "source": [
        "df.columns"
      ],
      "metadata": {
        "colab": {
          "base_uri": "https://localhost:8080/"
        },
        "id": "xHM_fpesRi0u",
        "outputId": "23a4dadc-6a63-4975-8227-4c66f65abf61"
      },
      "execution_count": 16,
      "outputs": [
        {
          "output_type": "execute_result",
          "data": {
            "text/plain": [
              "Index(['Gender', 'Age', 'Malaysian', 'Current Country of Residence',\n",
              "       'Highest Level of Education', 'Name of School', 'Education Relation',\n",
              "       'Bootcamp', 'Professional Certification', 'Job Title', 'Salary',\n",
              "       'Technologies', 'Company Location', 'Company Industry', 'Company Size',\n",
              "       'Tech Team Size', 'Experience', 'Number of Past Jobs',\n",
              "       'Initial Salary'],\n",
              "      dtype='object')"
            ]
          },
          "metadata": {},
          "execution_count": 16
        }
      ]
    },
    {
      "cell_type": "markdown",
      "source": [
        "## Analysis"
      ],
      "metadata": {
        "id": "-gEwAdJUy7Vp"
      }
    },
    {
      "cell_type": "code",
      "source": [
        "df.describe(include=\"all\")"
      ],
      "metadata": {
        "colab": {
          "base_uri": "https://localhost:8080/",
          "height": 580
        },
        "id": "jtWjgcbYSIXf",
        "outputId": "9a7fb68c-9c5b-4041-d30f-5f5bfb1c4a52"
      },
      "execution_count": 17,
      "outputs": [
        {
          "output_type": "execute_result",
          "data": {
            "text/plain": [
              "       Gender         Age   Malaysian Current Country of Residence  \\\n",
              "count     690  690.000000  690.000000                          690   \n",
              "unique      3         NaN         NaN                            4   \n",
              "top      Male         NaN         NaN                     Malaysia   \n",
              "freq      604         NaN         NaN                          687   \n",
              "mean      NaN   27.830435    0.959420                          NaN   \n",
              "std       NaN    4.619194    0.197458                          NaN   \n",
              "min       NaN   18.000000    0.000000                          NaN   \n",
              "25%       NaN   24.000000    1.000000                          NaN   \n",
              "50%       NaN   27.000000    1.000000                          NaN   \n",
              "75%       NaN   30.000000    1.000000                          NaN   \n",
              "max       NaN   48.000000    1.000000                          NaN   \n",
              "\n",
              "        Highest Level of Education                         Name of School  \\\n",
              "count                   690.000000                                    621   \n",
              "unique                         NaN                                    124   \n",
              "top                            NaN  Tunku Abdul Rahman University College   \n",
              "freq                           NaN                                     92   \n",
              "mean                      5.163768                                    NaN   \n",
              "std                       1.885124                                    NaN   \n",
              "min                       0.000000                                    NaN   \n",
              "25%                       6.000000                                    NaN   \n",
              "50%                       6.000000                                    NaN   \n",
              "75%                       6.000000                                    NaN   \n",
              "max                       6.000000                                    NaN   \n",
              "\n",
              "        Education Relation    Bootcamp  Professional Certification  \\\n",
              "count           690.000000  690.000000                  690.000000   \n",
              "unique                 NaN         NaN                         NaN   \n",
              "top                    NaN         NaN                         NaN   \n",
              "freq                   NaN         NaN                         NaN   \n",
              "mean              0.814493    0.123188                    0.146377   \n",
              "std               0.388990    0.328892                    0.353740   \n",
              "min               0.000000    0.000000                    0.000000   \n",
              "25%               1.000000    0.000000                    0.000000   \n",
              "50%               1.000000    0.000000                    0.000000   \n",
              "75%               1.000000    0.000000                    0.000000   \n",
              "max               1.000000    1.000000                    1.000000   \n",
              "\n",
              "                Job Title        Salary Technologies        Company Location  \\\n",
              "count                 690    690.000000          689                     690   \n",
              "unique                145           NaN          571                     174   \n",
              "top     Software Engineer           NaN         Java  Kuala Lumpur, Malaysia   \n",
              "freq                  131           NaN           21                     131   \n",
              "mean                  NaN   6553.394203          NaN                     NaN   \n",
              "std                   NaN   4244.596729          NaN                     NaN   \n",
              "min                   NaN      1.000000          NaN                     NaN   \n",
              "25%                   NaN   3800.000000          NaN                     NaN   \n",
              "50%                   NaN   5290.000000          NaN                     NaN   \n",
              "75%                   NaN   8000.000000          NaN                     NaN   \n",
              "max                   NaN  30000.000000          NaN                     NaN   \n",
              "\n",
              "          Company Industry     Company Size Tech Team Size  Experience  \\\n",
              "count                  690              690            690  690.000000   \n",
              "unique                 107                7              5         NaN   \n",
              "top     Financial Services  11-50 employees  2 - 10 people         NaN   \n",
              "freq                   150              175            410         NaN   \n",
              "mean                   NaN              NaN            NaN    4.393145   \n",
              "std                    NaN              NaN            NaN    4.125690   \n",
              "min                    NaN              NaN            NaN    0.000000   \n",
              "25%                    NaN              NaN            NaN    1.000000   \n",
              "50%                    NaN              NaN            NaN    3.000000   \n",
              "75%                    NaN              NaN            NaN    6.000000   \n",
              "max                    NaN              NaN            NaN   30.000000   \n",
              "\n",
              "        Number of Past Jobs  Initial Salary  \n",
              "count            690.000000      683.000000  \n",
              "unique                  NaN             NaN  \n",
              "top                     NaN             NaN  \n",
              "freq                    NaN             NaN  \n",
              "mean               1.952899     3292.493411  \n",
              "std                1.806985     2070.289878  \n",
              "min                0.000000      400.000000  \n",
              "25%                1.000000     2500.000000  \n",
              "50%                1.000000     3000.000000  \n",
              "75%                3.000000     3500.000000  \n",
              "max               10.000000    25000.000000  "
            ],
            "text/html": [
              "\n",
              "  <div id=\"df-20659b03-9bac-49d9-b0be-a81ace1628db\">\n",
              "    <div class=\"colab-df-container\">\n",
              "      <div>\n",
              "<style scoped>\n",
              "    .dataframe tbody tr th:only-of-type {\n",
              "        vertical-align: middle;\n",
              "    }\n",
              "\n",
              "    .dataframe tbody tr th {\n",
              "        vertical-align: top;\n",
              "    }\n",
              "\n",
              "    .dataframe thead th {\n",
              "        text-align: right;\n",
              "    }\n",
              "</style>\n",
              "<table border=\"1\" class=\"dataframe\">\n",
              "  <thead>\n",
              "    <tr style=\"text-align: right;\">\n",
              "      <th></th>\n",
              "      <th>Gender</th>\n",
              "      <th>Age</th>\n",
              "      <th>Malaysian</th>\n",
              "      <th>Current Country of Residence</th>\n",
              "      <th>Highest Level of Education</th>\n",
              "      <th>Name of School</th>\n",
              "      <th>Education Relation</th>\n",
              "      <th>Bootcamp</th>\n",
              "      <th>Professional Certification</th>\n",
              "      <th>Job Title</th>\n",
              "      <th>Salary</th>\n",
              "      <th>Technologies</th>\n",
              "      <th>Company Location</th>\n",
              "      <th>Company Industry</th>\n",
              "      <th>Company Size</th>\n",
              "      <th>Tech Team Size</th>\n",
              "      <th>Experience</th>\n",
              "      <th>Number of Past Jobs</th>\n",
              "      <th>Initial Salary</th>\n",
              "    </tr>\n",
              "  </thead>\n",
              "  <tbody>\n",
              "    <tr>\n",
              "      <th>count</th>\n",
              "      <td>690</td>\n",
              "      <td>690.000000</td>\n",
              "      <td>690.000000</td>\n",
              "      <td>690</td>\n",
              "      <td>690.000000</td>\n",
              "      <td>621</td>\n",
              "      <td>690.000000</td>\n",
              "      <td>690.000000</td>\n",
              "      <td>690.000000</td>\n",
              "      <td>690</td>\n",
              "      <td>690.000000</td>\n",
              "      <td>689</td>\n",
              "      <td>690</td>\n",
              "      <td>690</td>\n",
              "      <td>690</td>\n",
              "      <td>690</td>\n",
              "      <td>690.000000</td>\n",
              "      <td>690.000000</td>\n",
              "      <td>683.000000</td>\n",
              "    </tr>\n",
              "    <tr>\n",
              "      <th>unique</th>\n",
              "      <td>3</td>\n",
              "      <td>NaN</td>\n",
              "      <td>NaN</td>\n",
              "      <td>4</td>\n",
              "      <td>NaN</td>\n",
              "      <td>124</td>\n",
              "      <td>NaN</td>\n",
              "      <td>NaN</td>\n",
              "      <td>NaN</td>\n",
              "      <td>145</td>\n",
              "      <td>NaN</td>\n",
              "      <td>571</td>\n",
              "      <td>174</td>\n",
              "      <td>107</td>\n",
              "      <td>7</td>\n",
              "      <td>5</td>\n",
              "      <td>NaN</td>\n",
              "      <td>NaN</td>\n",
              "      <td>NaN</td>\n",
              "    </tr>\n",
              "    <tr>\n",
              "      <th>top</th>\n",
              "      <td>Male</td>\n",
              "      <td>NaN</td>\n",
              "      <td>NaN</td>\n",
              "      <td>Malaysia</td>\n",
              "      <td>NaN</td>\n",
              "      <td>Tunku Abdul Rahman University College</td>\n",
              "      <td>NaN</td>\n",
              "      <td>NaN</td>\n",
              "      <td>NaN</td>\n",
              "      <td>Software Engineer</td>\n",
              "      <td>NaN</td>\n",
              "      <td>Java</td>\n",
              "      <td>Kuala Lumpur, Malaysia</td>\n",
              "      <td>Financial Services</td>\n",
              "      <td>11-50 employees</td>\n",
              "      <td>2 - 10 people</td>\n",
              "      <td>NaN</td>\n",
              "      <td>NaN</td>\n",
              "      <td>NaN</td>\n",
              "    </tr>\n",
              "    <tr>\n",
              "      <th>freq</th>\n",
              "      <td>604</td>\n",
              "      <td>NaN</td>\n",
              "      <td>NaN</td>\n",
              "      <td>687</td>\n",
              "      <td>NaN</td>\n",
              "      <td>92</td>\n",
              "      <td>NaN</td>\n",
              "      <td>NaN</td>\n",
              "      <td>NaN</td>\n",
              "      <td>131</td>\n",
              "      <td>NaN</td>\n",
              "      <td>21</td>\n",
              "      <td>131</td>\n",
              "      <td>150</td>\n",
              "      <td>175</td>\n",
              "      <td>410</td>\n",
              "      <td>NaN</td>\n",
              "      <td>NaN</td>\n",
              "      <td>NaN</td>\n",
              "    </tr>\n",
              "    <tr>\n",
              "      <th>mean</th>\n",
              "      <td>NaN</td>\n",
              "      <td>27.830435</td>\n",
              "      <td>0.959420</td>\n",
              "      <td>NaN</td>\n",
              "      <td>5.163768</td>\n",
              "      <td>NaN</td>\n",
              "      <td>0.814493</td>\n",
              "      <td>0.123188</td>\n",
              "      <td>0.146377</td>\n",
              "      <td>NaN</td>\n",
              "      <td>6553.394203</td>\n",
              "      <td>NaN</td>\n",
              "      <td>NaN</td>\n",
              "      <td>NaN</td>\n",
              "      <td>NaN</td>\n",
              "      <td>NaN</td>\n",
              "      <td>4.393145</td>\n",
              "      <td>1.952899</td>\n",
              "      <td>3292.493411</td>\n",
              "    </tr>\n",
              "    <tr>\n",
              "      <th>std</th>\n",
              "      <td>NaN</td>\n",
              "      <td>4.619194</td>\n",
              "      <td>0.197458</td>\n",
              "      <td>NaN</td>\n",
              "      <td>1.885124</td>\n",
              "      <td>NaN</td>\n",
              "      <td>0.388990</td>\n",
              "      <td>0.328892</td>\n",
              "      <td>0.353740</td>\n",
              "      <td>NaN</td>\n",
              "      <td>4244.596729</td>\n",
              "      <td>NaN</td>\n",
              "      <td>NaN</td>\n",
              "      <td>NaN</td>\n",
              "      <td>NaN</td>\n",
              "      <td>NaN</td>\n",
              "      <td>4.125690</td>\n",
              "      <td>1.806985</td>\n",
              "      <td>2070.289878</td>\n",
              "    </tr>\n",
              "    <tr>\n",
              "      <th>min</th>\n",
              "      <td>NaN</td>\n",
              "      <td>18.000000</td>\n",
              "      <td>0.000000</td>\n",
              "      <td>NaN</td>\n",
              "      <td>0.000000</td>\n",
              "      <td>NaN</td>\n",
              "      <td>0.000000</td>\n",
              "      <td>0.000000</td>\n",
              "      <td>0.000000</td>\n",
              "      <td>NaN</td>\n",
              "      <td>1.000000</td>\n",
              "      <td>NaN</td>\n",
              "      <td>NaN</td>\n",
              "      <td>NaN</td>\n",
              "      <td>NaN</td>\n",
              "      <td>NaN</td>\n",
              "      <td>0.000000</td>\n",
              "      <td>0.000000</td>\n",
              "      <td>400.000000</td>\n",
              "    </tr>\n",
              "    <tr>\n",
              "      <th>25%</th>\n",
              "      <td>NaN</td>\n",
              "      <td>24.000000</td>\n",
              "      <td>1.000000</td>\n",
              "      <td>NaN</td>\n",
              "      <td>6.000000</td>\n",
              "      <td>NaN</td>\n",
              "      <td>1.000000</td>\n",
              "      <td>0.000000</td>\n",
              "      <td>0.000000</td>\n",
              "      <td>NaN</td>\n",
              "      <td>3800.000000</td>\n",
              "      <td>NaN</td>\n",
              "      <td>NaN</td>\n",
              "      <td>NaN</td>\n",
              "      <td>NaN</td>\n",
              "      <td>NaN</td>\n",
              "      <td>1.000000</td>\n",
              "      <td>1.000000</td>\n",
              "      <td>2500.000000</td>\n",
              "    </tr>\n",
              "    <tr>\n",
              "      <th>50%</th>\n",
              "      <td>NaN</td>\n",
              "      <td>27.000000</td>\n",
              "      <td>1.000000</td>\n",
              "      <td>NaN</td>\n",
              "      <td>6.000000</td>\n",
              "      <td>NaN</td>\n",
              "      <td>1.000000</td>\n",
              "      <td>0.000000</td>\n",
              "      <td>0.000000</td>\n",
              "      <td>NaN</td>\n",
              "      <td>5290.000000</td>\n",
              "      <td>NaN</td>\n",
              "      <td>NaN</td>\n",
              "      <td>NaN</td>\n",
              "      <td>NaN</td>\n",
              "      <td>NaN</td>\n",
              "      <td>3.000000</td>\n",
              "      <td>1.000000</td>\n",
              "      <td>3000.000000</td>\n",
              "    </tr>\n",
              "    <tr>\n",
              "      <th>75%</th>\n",
              "      <td>NaN</td>\n",
              "      <td>30.000000</td>\n",
              "      <td>1.000000</td>\n",
              "      <td>NaN</td>\n",
              "      <td>6.000000</td>\n",
              "      <td>NaN</td>\n",
              "      <td>1.000000</td>\n",
              "      <td>0.000000</td>\n",
              "      <td>0.000000</td>\n",
              "      <td>NaN</td>\n",
              "      <td>8000.000000</td>\n",
              "      <td>NaN</td>\n",
              "      <td>NaN</td>\n",
              "      <td>NaN</td>\n",
              "      <td>NaN</td>\n",
              "      <td>NaN</td>\n",
              "      <td>6.000000</td>\n",
              "      <td>3.000000</td>\n",
              "      <td>3500.000000</td>\n",
              "    </tr>\n",
              "    <tr>\n",
              "      <th>max</th>\n",
              "      <td>NaN</td>\n",
              "      <td>48.000000</td>\n",
              "      <td>1.000000</td>\n",
              "      <td>NaN</td>\n",
              "      <td>6.000000</td>\n",
              "      <td>NaN</td>\n",
              "      <td>1.000000</td>\n",
              "      <td>1.000000</td>\n",
              "      <td>1.000000</td>\n",
              "      <td>NaN</td>\n",
              "      <td>30000.000000</td>\n",
              "      <td>NaN</td>\n",
              "      <td>NaN</td>\n",
              "      <td>NaN</td>\n",
              "      <td>NaN</td>\n",
              "      <td>NaN</td>\n",
              "      <td>30.000000</td>\n",
              "      <td>10.000000</td>\n",
              "      <td>25000.000000</td>\n",
              "    </tr>\n",
              "  </tbody>\n",
              "</table>\n",
              "</div>\n",
              "      <button class=\"colab-df-convert\" onclick=\"convertToInteractive('df-20659b03-9bac-49d9-b0be-a81ace1628db')\"\n",
              "              title=\"Convert this dataframe to an interactive table.\"\n",
              "              style=\"display:none;\">\n",
              "        \n",
              "  <svg xmlns=\"http://www.w3.org/2000/svg\" height=\"24px\"viewBox=\"0 0 24 24\"\n",
              "       width=\"24px\">\n",
              "    <path d=\"M0 0h24v24H0V0z\" fill=\"none\"/>\n",
              "    <path d=\"M18.56 5.44l.94 2.06.94-2.06 2.06-.94-2.06-.94-.94-2.06-.94 2.06-2.06.94zm-11 1L8.5 8.5l.94-2.06 2.06-.94-2.06-.94L8.5 2.5l-.94 2.06-2.06.94zm10 10l.94 2.06.94-2.06 2.06-.94-2.06-.94-.94-2.06-.94 2.06-2.06.94z\"/><path d=\"M17.41 7.96l-1.37-1.37c-.4-.4-.92-.59-1.43-.59-.52 0-1.04.2-1.43.59L10.3 9.45l-7.72 7.72c-.78.78-.78 2.05 0 2.83L4 21.41c.39.39.9.59 1.41.59.51 0 1.02-.2 1.41-.59l7.78-7.78 2.81-2.81c.8-.78.8-2.07 0-2.86zM5.41 20L4 18.59l7.72-7.72 1.47 1.35L5.41 20z\"/>\n",
              "  </svg>\n",
              "      </button>\n",
              "      \n",
              "  <style>\n",
              "    .colab-df-container {\n",
              "      display:flex;\n",
              "      flex-wrap:wrap;\n",
              "      gap: 12px;\n",
              "    }\n",
              "\n",
              "    .colab-df-convert {\n",
              "      background-color: #E8F0FE;\n",
              "      border: none;\n",
              "      border-radius: 50%;\n",
              "      cursor: pointer;\n",
              "      display: none;\n",
              "      fill: #1967D2;\n",
              "      height: 32px;\n",
              "      padding: 0 0 0 0;\n",
              "      width: 32px;\n",
              "    }\n",
              "\n",
              "    .colab-df-convert:hover {\n",
              "      background-color: #E2EBFA;\n",
              "      box-shadow: 0px 1px 2px rgba(60, 64, 67, 0.3), 0px 1px 3px 1px rgba(60, 64, 67, 0.15);\n",
              "      fill: #174EA6;\n",
              "    }\n",
              "\n",
              "    [theme=dark] .colab-df-convert {\n",
              "      background-color: #3B4455;\n",
              "      fill: #D2E3FC;\n",
              "    }\n",
              "\n",
              "    [theme=dark] .colab-df-convert:hover {\n",
              "      background-color: #434B5C;\n",
              "      box-shadow: 0px 1px 3px 1px rgba(0, 0, 0, 0.15);\n",
              "      filter: drop-shadow(0px 1px 2px rgba(0, 0, 0, 0.3));\n",
              "      fill: #FFFFFF;\n",
              "    }\n",
              "  </style>\n",
              "\n",
              "      <script>\n",
              "        const buttonEl =\n",
              "          document.querySelector('#df-20659b03-9bac-49d9-b0be-a81ace1628db button.colab-df-convert');\n",
              "        buttonEl.style.display =\n",
              "          google.colab.kernel.accessAllowed ? 'block' : 'none';\n",
              "\n",
              "        async function convertToInteractive(key) {\n",
              "          const element = document.querySelector('#df-20659b03-9bac-49d9-b0be-a81ace1628db');\n",
              "          const dataTable =\n",
              "            await google.colab.kernel.invokeFunction('convertToInteractive',\n",
              "                                                     [key], {});\n",
              "          if (!dataTable) return;\n",
              "\n",
              "          const docLinkHtml = 'Like what you see? Visit the ' +\n",
              "            '<a target=\"_blank\" href=https://colab.research.google.com/notebooks/data_table.ipynb>data table notebook</a>'\n",
              "            + ' to learn more about interactive tables.';\n",
              "          element.innerHTML = '';\n",
              "          dataTable['output_type'] = 'display_data';\n",
              "          await google.colab.output.renderOutput(dataTable, element);\n",
              "          const docLink = document.createElement('div');\n",
              "          docLink.innerHTML = docLinkHtml;\n",
              "          element.appendChild(docLink);\n",
              "        }\n",
              "      </script>\n",
              "    </div>\n",
              "  </div>\n",
              "  "
            ]
          },
          "metadata": {},
          "execution_count": 17
        }
      ]
    },
    {
      "cell_type": "code",
      "source": [
        "import matplotlib.pyplot as plt\n",
        "from mpl_toolkits.mplot3d import Axes3D\n",
        "\n",
        "threedee = plt.figure().gca(projection='3d')\n",
        "threedee.scatter(df['Highest Level of Education'], df['Experience'], df['Salary'])\n",
        "threedee.set_xlabel('Highest Level of Education')\n",
        "threedee.set_ylabel('Experience')\n",
        "threedee.set_zlabel('Salary')\n",
        "plt.show()"
      ],
      "metadata": {
        "id": "BwwitfRnTQvn",
        "colab": {
          "base_uri": "https://localhost:8080/",
          "height": 248
        },
        "outputId": "b065861c-9481-485c-ae00-bd4db493811a"
      },
      "execution_count": 18,
      "outputs": [
        {
          "output_type": "display_data",
          "data": {
            "text/plain": [
              "<Figure size 432x288 with 1 Axes>"
            ],
            "image/png": "[encoded data removed]"
          },
          "metadata": {
            "needs_background": "light"
          }
        }
      ]
    },
    {
      "cell_type": "code",
      "source": [
        "df.plot(kind = 'scatter', x = 'Highest Level of Education', y = 'Salary')\n",
        "plt.show()"
      ],
      "metadata": {
        "colab": {
          "base_uri": "https://localhost:8080/",
          "height": 279
        },
        "id": "H6px4CXFIPhs",
        "outputId": "0f3047a0-f112-4109-e651-6a2433821270"
      },
      "execution_count": 19,
      "outputs": [
        {
          "output_type": "display_data",
          "data": {
            "text/plain": [
              "<Figure size 432x288 with 1 Axes>"
            ],
            "image/png": "[encoded data removed]"
          },
          "metadata": {
            "needs_background": "light"
          }
        }
      ]
    },
    {
      "cell_type": "code",
      "source": [
        "df.columns"
      ],
      "metadata": {
        "colab": {
          "base_uri": "https://localhost:8080/"
        },
        "id": "xSixS2cuCC3R",
        "outputId": "d1b8bc1d-2054-422b-8b5a-d18ee3d1d18c"
      },
      "execution_count": 20,
      "outputs": [
        {
          "output_type": "execute_result",
          "data": {
            "text/plain": [
              "Index(['Gender', 'Age', 'Malaysian', 'Current Country of Residence',\n",
              "       'Highest Level of Education', 'Name of School', 'Education Relation',\n",
              "       'Bootcamp', 'Professional Certification', 'Job Title', 'Salary',\n",
              "       'Technologies', 'Company Location', 'Company Industry', 'Company Size',\n",
              "       'Tech Team Size', 'Experience', 'Number of Past Jobs',\n",
              "       'Initial Salary'],\n",
              "      dtype='object')"
            ]
          },
          "metadata": {},
          "execution_count": 20
        }
      ]
    },
    {
      "cell_type": "code",
      "source": [
        "X = df[['Experience']]\n",
        "Y = df['Salary']"
      ],
      "metadata": {
        "id": "CPUs9-hyB-eu"
      },
      "execution_count": 21,
      "outputs": []
    },
    {
      "cell_type": "code",
      "source": [
        "from sklearn.model_selection import train_test_split\n",
        "\n",
        "x_train, x_test, y_train, y_test = train_test_split(X, Y, test_size=0.2)"
      ],
      "metadata": {
        "id": "ZVPOf7hRBtVu"
      },
      "execution_count": 22,
      "outputs": []
    },
    {
      "cell_type": "code",
      "source": [
        "from sklearn.linear_model import LinearRegression\n",
        "clf = LinearRegression()"
      ],
      "metadata": {
        "id": "KDZ8om_0Cm7E"
      },
      "execution_count": 23,
      "outputs": []
    },
    {
      "cell_type": "code",
      "source": [
        "clf.fit(x_train,y_train)"
      ],
      "metadata": {
        "colab": {
          "base_uri": "https://localhost:8080/"
        },
        "id": "H3XspY2TCrS9",
        "outputId": "fb69848f-9d6b-4d8d-aa59-d3933a2a7d4d"
      },
      "execution_count": 24,
      "outputs": [
        {
          "output_type": "execute_result",
          "data": {
            "text/plain": [
              "LinearRegression()"
            ]
          },
          "metadata": {},
          "execution_count": 24
        }
      ]
    },
    {
      "cell_type": "code",
      "source": [
        "clf.score(x_test,y_test)"
      ],
      "metadata": {
        "colab": {
          "base_uri": "https://localhost:8080/"
        },
        "id": "2WJ7oUWnCuPn",
        "outputId": "f713eef1-49d5-4a90-ec29-fc6ef4d484a8"
      },
      "execution_count": 25,
      "outputs": [
        {
          "output_type": "execute_result",
          "data": {
            "text/plain": [
              "0.2356197233187286"
            ]
          },
          "metadata": {},
          "execution_count": 25
        }
      ]
    }
  ]
}